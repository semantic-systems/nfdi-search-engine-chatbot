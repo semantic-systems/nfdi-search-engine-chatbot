{
 "cells": [
  {
   "cell_type": "code",
   "execution_count": 2,
   "id": "ee2c83f0-1e81-4a78-a3db-9d138c73be52",
   "metadata": {},
   "outputs": [
    {
     "name": "stdout",
     "output_type": "stream",
     "text": [
      "size of comparisons: 1420\n"
     ]
    }
   ],
   "source": [
    "import json \n",
    "with open(\"path_to_orkg_comparisons.json\", encoding=\"utf-8\") as f:\n",
    "        comps = json.load(f)\n",
    "\n",
    "print(\"size of comparisons:\", len(comps))"
   ]
  },
  {
   "cell_type": "code",
   "execution_count": 5,
   "id": "78f4bc1f-eebe-44cb-a46c-5cdf9f7a5294",
   "metadata": {},
   "outputs": [
    {
     "name": "stdout",
     "output_type": "stream",
     "text": [
      "size of research_fields: 161\n"
     ]
    }
   ],
   "source": [
    "research_fields = []\n",
    "for comp in comps:\n",
    "    if len(comp['comparison-papers']) !=0:\n",
    "        research_fields.append(comp['comparison-papers'][list(comp['comparison-papers'].keys())[0]]['research field'])\n",
    "\n",
    "research_fields = list(set(research_fields))\n",
    "\n",
    "print(\"size of research_fields:\", len(research_fields))"
   ]
  },
  {
   "cell_type": "code",
   "execution_count": 6,
   "id": "1055045a-0d58-4817-809c-4185a24e4bfe",
   "metadata": {},
   "outputs": [
    {
     "name": "stdout",
     "output_type": "stream",
     "text": [
      "['', 'Materials Chemistry', 'Slavic Languages and Societies', 'Computer and Systems Architecture', 'Theoretical Computer Science', 'Oceanography and Atmospheric Sciences and Meteorology', 'Ecology of Land Use', 'Nutrition', 'European Languages and Societies (not elsewhere classified)', 'Immunology and Infectious Disease', 'Numerical Analysis/Scientific Computing', 'Cryptography and Security', 'Networking and Internet Architecture', 'Theory/Algorithms', 'Toxicology', 'Cellular and Molecular Physiology', 'Analysis', 'Genetics', 'Digital Communications and Networking', 'Information Systems, Process and Knowledge Management', 'Plant Cultivation, Plant Nutrition, Agricultural Technology', 'Learner-Interface Interaction', 'Comparative Politics', 'Educational Research', 'South and Southeast Asian Languages and Societies', 'Mechanical Process Engineering', 'Polymer Chemistry', 'Invasion biology', 'Polymer and Organic Materials', 'Forest Management', 'Electrical Engineering and Information Technology', 'Information Science', 'Science and Technology Studies', 'Microbiology', 'Soil Science', 'Mechanical Properties of Metallic Materials and their Microstructural Origins', 'Semantic Web', 'Cognitive Psychology', 'Materials Science and Engineering', 'Arts and Humanities', 'International Relations', 'Geophysics and Seismology', 'The Sun and the Solar System', 'Food Processing', 'Food Chemistry', 'Animal Sciences', 'Biophysics', 'Anatomy', 'Civil Engineering', 'Operating, Communication, Database and Distributed Systems', 'Engineering', 'Social Sciences', 'Medicinal Chemistry and Pharmaceutics', 'Digital Libraries', 'Human and Clinical Nutrition', 'Operations Research, Systems Engineering and Industrial Engineering', 'Social Psychology', 'Software Engineering', 'Urban Studies and Planning', 'Environmental Chemistry', 'Biotechnology', 'Industrial Engineering', 'Neuroscience and Neurobiology', 'General and Domain-Specific Teaching and Learning', 'Stars, Interstellar Medium and the Galaxy', 'Critical and Cultural Studies', 'Computer Sciences', 'Organic Chemistry', 'Planetary Sciences', 'Urbanism, Spatial Planning, Transportation and Infrastructure Planning, Landscape Planning', 'Natural Language Processing', 'Education Systems and Educational Institutions', 'Semiconductor and Optical Materials', 'Ecology and Evolutionary Biology', 'Plant Pathology', 'Climate', 'Computers and Society', 'Artificial Intelligence', 'Chemical Engineering', 'Energy Systems', 'Geography', 'Organic Molecular Chemistry - Synthesis and Characterisation', 'Tribology', 'Geology', 'Bacteriology', 'Traffic and Transport Systems, Intelligent and Automated Traffic', 'Virology', 'Public Health', 'Semantics/Pragmatics', 'Psychology', 'Oceanography', 'Applied Physics', 'Biochemistry', 'Science', 'Human Computer Interfaces', 'Geodesy, Photogrammetry, Remote Sensing, Geoinformatics, Cartography', 'Labor Economics', 'Communication Neuroscience', 'Databases/Information Systems', 'Urban Studies', 'Cultural History', 'Social and Behavioral Sciences', 'Graphics', 'Life Sciences', 'Chemistry', 'Immunology of Infectious Disease', 'Analytical Chemistry', 'Computational Engineering', 'Robotics', 'Public Administration', 'Bioinformatics', 'Coating and Surface Technology', 'Theory, Knowledge and Science', 'Empirical Social Research', 'Inorganic Chemistry', 'Agricultural and Resource Economics', 'Computational Linguistics', 'Data Storage Systems', 'Food Information Engineering', 'Place and Environment', 'Nanoscience and Nanotechnology', 'Behavioral Economics', 'Pathogenic Microbiology', 'Geographic Information Sciences', 'Terrestrial and Aquatic Ecology', 'Biblical Studies', 'Mathematics', 'Security and Dependability', 'Requirements Engineering', 'Discourse/Text Linguistics', 'Environmental Health', 'Control Theory', 'Industrial and Organizational Psychology', 'Linguistics', 'Computational Neuroscience', 'Computer Vision and Pattern Recognition', 'Epidemiology', 'First/Second Language Acquisition', 'Growth and Development', 'Thermodynamics', 'Social Psychology and Interaction', 'Biomedical Engineering and Bioengineering', 'Atomic, Molecular and Optical Physics', 'Entomology Food Science', 'Nutritional Epidemiology', 'Applied Linguistics', 'Astrophysics and Astronomy', 'Earth Sciences', 'Medical Informatics and Medical Bioinformatics', 'Plasma and Beam Physics', 'Hydrogeology, Hydrology, Limnology, Urban Water Management, Water Chemistry, Integrated Water Resources Management', 'Physical Chemistry', 'Machine Learning', 'Atomic Physics', 'Environmental Sciences', 'Microbial Physiology', 'Ocean Engineering', 'Computer Engineering', 'Biomedical', 'Sociology', 'Ecology and Biodiversity of Animals and Ecosystems, Organismic Interactions']\n"
     ]
    }
   ],
   "source": [
    "print(research_fields)"
   ]
  },
  {
   "cell_type": "code",
   "execution_count": 7,
   "id": "6e8a409f-7f9e-4cc2-8a3f-ddcad5d2bd8f",
   "metadata": {},
   "outputs": [
    {
     "name": "stdout",
     "output_type": "stream",
     "text": [
      "['Semantic Web', 'Computer and Systems Architecture', 'Operating, Communication, Database and Distributed Systems', 'Networking and Internet Architecture', 'Semantics/Pragmatics', 'Requirements Engineering', 'Analysis', 'Discourse/Text Linguistics', 'Human Computer Interfaces', 'Software Engineering', 'Databases/Information Systems', 'Linguistics', 'Digital Communications and Networking', 'Information Systems, Process and Knowledge Management', 'Computational Neuroscience', 'Computer Vision and Pattern Recognition', 'Computer Sciences', 'Applied Linguistics', 'Computational Engineering', 'Robotics', 'Natural Language Processing', 'Machine Learning', 'Computer Engineering', 'Computers and Society', 'Artificial Intelligence', 'Computational Linguistics', 'Data Storage Systems']\n"
     ]
    }
   ],
   "source": [
    "fields=\"\"\"Machine Learning\n",
    "Software Engineering\n",
    "Semantics/Pragmatics\n",
    "Computational Neuroscience\n",
    "Computational Linguistics\n",
    "Operating, Communication, Database and Distributed Systems\n",
    "Computer and Systems Architecture\n",
    "Artificial Intelligence\n",
    "Information Systems, Process and Knowledge Management\n",
    "Computational Engineering\n",
    "Data Storage Systems\n",
    "Computer Vision and Pattern Recognition\n",
    "Computer Engineering\n",
    "Databases/Information Systems\n",
    "Computer Sciences\n",
    "Digital Communications and Networking\n",
    "Requirements Engineering\n",
    "Discourse/Text Linguistics\n",
    "Natural Language Processing\n",
    "Human Computer Interfaces\n",
    "Networking and Internet Architecture\n",
    "Semantic Web\n",
    "Robotics\n",
    "Data Storage Systems\n",
    "Applied Linguistics\n",
    "Linguistics\n",
    "Analysis\n",
    "Digital Communications and Networking\n",
    "Computers and Society\"\"\"\n",
    "\n",
    "chosen_fields = list(set(fields.split(\"\\n\")))\n",
    "\n",
    "print(chosen_fields)"
   ]
  },
  {
   "cell_type": "code",
   "execution_count": 8,
   "id": "7065d8ab-322c-4313-853d-866677584b4b",
   "metadata": {},
   "outputs": [
    {
     "name": "stdout",
     "output_type": "stream",
     "text": [
      "size of selecteds: 316\n",
      "Number of chosen topics: 316\n"
     ]
    }
   ],
   "source": [
    "from collections import defaultdict\n",
    "\n",
    "selecteds = []\n",
    "topics = []\n",
    "\n",
    "for comp in comps:\n",
    "    if len(comp['comparison']) > 1 \\\n",
    "       and comp['comparison-papers'][list(comp['comparison-papers'].keys())[0]]['research field'] in chosen_fields \\\n",
    "       and 'Comparison' not in comp['label'] \\\n",
    "       and len(comp['label'].split()) > 1:\n",
    "        selecteds.append(comp)\n",
    "        topics.append(comp['label'])\n",
    "\n",
    "topics = list(set(topics))\n",
    "\n",
    "print(\"size of selecteds:\", len(topics))\n",
    "print(\"Number of chosen topics:\", len(topics))"
   ]
  },
  {
   "cell_type": "code",
   "execution_count": 11,
   "id": "a4e0c48c-4c62-466d-9345-54023e74b76d",
   "metadata": {},
   "outputs": [],
   "source": [
    "import pandas as pd\n",
    "\n",
    "df = pd.DataFrame( data={\"data\":topics, \"label\":[1 for _ in topics]})\n",
    "\n",
    "df.to_csv(\"../assets/evaluation/queries/topics.csv\", index=False)"
   ]
  },
  {
   "cell_type": "code",
   "execution_count": 12,
   "id": "c084a739-11e2-46b7-82fe-44ceb5b102da",
   "metadata": {},
   "outputs": [],
   "source": [
    "df = pd.DataFrame(data={\"field\":chosen_fields, \"label\":[1 for _ in chosen_fields]})\n",
    "\n",
    "df.to_csv(\"../assets/evaluation/queries/fields.csv\", index=False)"
   ]
  },
  {
   "cell_type": "markdown",
   "id": "8e5ac0bf-b5bd-42d4-b405-9739a8884bdf",
   "metadata": {},
   "source": [
    "# after annotation"
   ]
  },
  {
   "cell_type": "code",
   "execution_count": null,
   "id": "dc135480-2570-4318-b058-0a940db84c26",
   "metadata": {},
   "outputs": [],
   "source": [
    "import pandas as pd\n",
    "\n",
    "topics = pd.read_csv(\"../assets/evaluation/queries/annotated_topics.csv\")\n",
    "fields = pd.read_csv(\"../assets/evaluation/queries/fields.csv\")\n",
    "\n",
    "print(f\"selection of {sum(topics['label']) } out of {topics.shape[0]} topics\")\n",
    "\n",
    "selected_topics = topics[topics['label'] == 1]\n",
    "queries = selected_topics['data'].tolist() + fields['field'].tolist()\n",
    "\n",
    "print(\"total queries:\", len(queries))\n",
    "\n",
    "with open(\"../assets/evaluation/queries/queries.txt\", 'w', encoding='utf8') as myfile:\n",
    "    myfile.write('\\n'.join(queries))"
   ]
  },
  {
   "cell_type": "code",
   "execution_count": null,
   "id": "c9602f60-c104-41cd-9b83-9b8427fa4f84",
   "metadata": {},
   "outputs": [],
   "source": []
  }
 ],
 "metadata": {
  "kernelspec": {
   "display_name": "Python 3",
   "language": "python",
   "name": "python3"
  },
  "language_info": {
   "codemirror_mode": {
    "name": "ipython",
    "version": 3
   },
   "file_extension": ".py",
   "mimetype": "text/x-python",
   "name": "python",
   "nbconvert_exporter": "python",
   "pygments_lexer": "ipython3",
   "version": "3.9.16"
  }
 },
 "nbformat": 4,
 "nbformat_minor": 5
}
